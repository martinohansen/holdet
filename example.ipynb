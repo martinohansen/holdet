{
 "cells": [
  {
   "cell_type": "code",
   "execution_count": null,
   "metadata": {},
   "outputs": [],
   "source": [
    "# Create an instance of Candidate that implements the xValue property and\n",
    "# initialise the game with your implementation\n",
    "\n",
    "from holdet.campaign import Game, BaseCandidate\n",
    "\n",
    "\n",
    "class CandidateEMA(BaseCandidate):\n",
    "    def __init__(self, *args, **kwargs):\n",
    "        super().__init__(*args, **kwargs)\n",
    "\n",
    "    def xGrowth(self, alpha: float) -> float:\n",
    "        \"\"\"\n",
    "        Predict the growth for the next round using exponential moving average\n",
    "        (EMA). Set alpha to adjust the smoothing factor, between 0 and 1. Higher\n",
    "        values give more weight to recent stats.\n",
    "        \"\"\"\n",
    "        ema = 0.0\n",
    "        for i, round in enumerate(sorted(self.rounds)):\n",
    "            if i == 0:\n",
    "                ema = round.xGrowth\n",
    "            else:\n",
    "                ema = alpha * round.xGrowth + (1 - alpha) * ema\n",
    "        return ema\n",
    "\n",
    "    @property\n",
    "    def xValue(self) -> float:\n",
    "        if self.captain:\n",
    "            return self.value + self.xGrowth(0.5) * 2\n",
    "        return self.value + self.xGrowth(0.5)\n",
    "\n",
    "\n",
    "game = Game.new(CandidateEMA)\n"
   ]
  },
  {
   "cell_type": "code",
   "execution_count": null,
   "metadata": {},
   "outputs": [],
   "source": [
    "# Set your budget and calculate the starting 11 that will maximize the expected\n",
    "# value (xValue) within the rules of the game.\n",
    "\n",
    "from rich.jupyter import print\n",
    "from holdet.solver import lp\n",
    "from holdet.formation import Formation\n",
    "\n",
    "budget = 50 * 1000000  # 50 million\n",
    "\n",
    "solution = lp.find_optimal_team(game.candidates, budget)\n",
    "print(Formation(solution))\n"
   ]
  }
 ],
 "metadata": {
  "kernelspec": {
   "display_name": "holdet-c4R3yUW3-py3.11",
   "language": "python",
   "name": "python3"
  },
  "language_info": {
   "codemirror_mode": {
    "name": "ipython",
    "version": 3
   },
   "file_extension": ".py",
   "mimetype": "text/x-python",
   "name": "python",
   "nbconvert_exporter": "python",
   "pygments_lexer": "ipython3",
   "version": "3.11.3"
  },
  "orig_nbformat": 4
 },
 "nbformat": 4,
 "nbformat_minor": 2
}
