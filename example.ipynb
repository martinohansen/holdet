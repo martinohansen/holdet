{
 "cells": [
  {
   "cell_type": "code",
   "execution_count": 1,
   "metadata": {},
   "outputs": [],
   "source": [
    "# Create an instance of Candidate that implements the xValue property and\n",
    "# initialise the game with your implementation\n",
    "\n",
    "from holdet.game import Game, BaseCandidate, Holdet, Sofascore\n",
    "\n",
    "\n",
    "class CandidateEMA(BaseCandidate):\n",
    "    def __init__(self, holdet: Holdet, sofascore: Sofascore) -> None:\n",
    "        super().__init__(holdet, sofascore)\n",
    "\n",
    "    def xGrowth(self, alpha: float) -> float:\n",
    "        \"\"\"\n",
    "        Predict the growth for the next round using exponential moving average\n",
    "        (EMA). Set alpha to adjust the smoothing factor, between 0 and 1. Higher\n",
    "        values give more weight to recent stats.\n",
    "        \"\"\"\n",
    "        ema = 0.0\n",
    "        for i, round in enumerate(sorted(self.rounds)):\n",
    "            if i == 0:\n",
    "                ema = round.xGrowth\n",
    "            else:\n",
    "                ema = alpha * round.xGrowth + (1 - alpha) * ema\n",
    "        return ema\n",
    "\n",
    "    @property\n",
    "    def xValue(self) -> float:\n",
    "        if self.captain:\n",
    "            return self.value + self.xGrowth(0.5) * 2\n",
    "        return self.value + self.xGrowth(0.5)\n",
    "\n",
    "\n",
    "game = Game(CandidateEMA)\n"
   ]
  },
  {
   "cell_type": "code",
   "execution_count": 2,
   "metadata": {},
   "outputs": [
    {
     "data": {
      "text/html": [
       "<pre style=\"white-space:pre;overflow-x:auto;line-height:normal;font-family:Menlo,'DejaVu Sans Mono',consolas,'Courier New',monospace\"><span style=\"font-style: italic\">                                                                             </span>\n",
       "<span style=\"font-style: italic\">                                 XI (3-4-3)                                  </span>\n",
       "┏━━━━━━━━━━━━━┳━━━━━━━━━━━━━━━━━━━━━━━━━━━━━━━━━━━━━━━━━━━━━━━━━━━┳━━━━━━━━━┓\n",
       "┃<span style=\"font-weight: bold\"> Position    </span>┃<span style=\"font-weight: bold\"> Players                                           </span>┃<span style=\"font-weight: bold\"> xGrowth </span>┃\n",
       "┡━━━━━━━━━━━━━╇━━━━━━━━━━━━━━━━━━━━━━━━━━━━━━━━━━━━━━━━━━━━━━━━━━━╇━━━━━━━━━┩\n",
       "│ Keeper      │ ⚽️ Kasper Schmeichel (Leicester City), value=0.0M │     32K │\n",
       "│             │                                                   │         │\n",
       "│ Defenses    │ ⚽️ Christian Marques (Wolverhampton), value=0.0M  │     98K │\n",
       "│             │ ⚽️ Brandon Williams (Manchester Utd), value=1.9M  │    181K │\n",
       "│             │ ⚽️ Ethan Pinnock (Brentford), value=4.1M          │    168K │\n",
       "│             │                                                   │         │\n",
       "│ Midfielders │ ⚽️ Jacob Ramsey (Aston Villa), value=5.0M         │    258K │\n",
       "│             │ ⚽️ Bryan Mbeumo (Brentford), value=6.1M           │    244K │\n",
       "│             │ ⚽️ Cole Palmer (Manchester City), value=3.2M      │    237K │\n",
       "│             │ 👑 Bruno Fernandes (Manchester Utd), value=8.8M   │    646K │\n",
       "│             │                                                   │         │\n",
       "│ Forwards    │ ⚽️ Aleksandar Mitrovic (Fulham), value=6.8M       │    257K │\n",
       "│             │ ⚽️ Ollie Watkins (Aston Villa), value=7.6M        │    264K │\n",
       "│             │ ⚽️ Jadon Sancho (Manchester Utd), value=6.1M      │    227K │\n",
       "│ Total       │ value=49.5M                                       │   2611K │\n",
       "└─────────────┴───────────────────────────────────────────────────┴─────────┘\n",
       "</pre>\n"
      ],
      "text/plain": [
       "\u001b[3m                                                                             \u001b[0m\n",
       "\u001b[3m                                 XI (3-4-3)                                  \u001b[0m\n",
       "┏━━━━━━━━━━━━━┳━━━━━━━━━━━━━━━━━━━━━━━━━━━━━━━━━━━━━━━━━━━━━━━━━━━┳━━━━━━━━━┓\n",
       "┃\u001b[1m \u001b[0m\u001b[1mPosition   \u001b[0m\u001b[1m \u001b[0m┃\u001b[1m \u001b[0m\u001b[1mPlayers                                          \u001b[0m\u001b[1m \u001b[0m┃\u001b[1m \u001b[0m\u001b[1mxGrowth\u001b[0m\u001b[1m \u001b[0m┃\n",
       "┡━━━━━━━━━━━━━╇━━━━━━━━━━━━━━━━━━━━━━━━━━━━━━━━━━━━━━━━━━━━━━━━━━━╇━━━━━━━━━┩\n",
       "│ Keeper      │ ⚽️ Kasper Schmeichel (Leicester City), value=0.0M │     32K │\n",
       "│             │                                                   │         │\n",
       "│ Defenses    │ ⚽️ Christian Marques (Wolverhampton), value=0.0M  │     98K │\n",
       "│             │ ⚽️ Brandon Williams (Manchester Utd), value=1.9M  │    181K │\n",
       "│             │ ⚽️ Ethan Pinnock (Brentford), value=4.1M          │    168K │\n",
       "│             │                                                   │         │\n",
       "│ Midfielders │ ⚽️ Jacob Ramsey (Aston Villa), value=5.0M         │    258K │\n",
       "│             │ ⚽️ Bryan Mbeumo (Brentford), value=6.1M           │    244K │\n",
       "│             │ ⚽️ Cole Palmer (Manchester City), value=3.2M      │    237K │\n",
       "│             │ 👑 Bruno Fernandes (Manchester Utd), value=8.8M   │    646K │\n",
       "│             │                                                   │         │\n",
       "│ Forwards    │ ⚽️ Aleksandar Mitrovic (Fulham), value=6.8M       │    257K │\n",
       "│             │ ⚽️ Ollie Watkins (Aston Villa), value=7.6M        │    264K │\n",
       "│             │ ⚽️ Jadon Sancho (Manchester Utd), value=6.1M      │    227K │\n",
       "│ Total       │ value=49.5M                                       │   2611K │\n",
       "└─────────────┴───────────────────────────────────────────────────┴─────────┘\n"
      ]
     },
     "metadata": {},
     "output_type": "display_data"
    }
   ],
   "source": [
    "# Set your budget and calculate the starting 11 that will maximize the expected\n",
    "# value (xValue) within the rules of the game.\n",
    "\n",
    "from rich.jupyter import print\n",
    "from holdet.solver import lp\n",
    "from holdet.formation import Formation\n",
    "\n",
    "budget = 50 * 1000000  # 50 million\n",
    "\n",
    "solution = lp.find_optimal_team(game.candidates, budget)\n",
    "print(Formation(solution))\n"
   ]
  }
 ],
 "metadata": {
  "kernelspec": {
   "display_name": "holdet-c4R3yUW3-py3.11",
   "language": "python",
   "name": "python3"
  },
  "language_info": {
   "codemirror_mode": {
    "name": "ipython",
    "version": 3
   },
   "file_extension": ".py",
   "mimetype": "text/x-python",
   "name": "python",
   "nbconvert_exporter": "python",
   "pygments_lexer": "ipython3",
   "version": "3.11.3"
  },
  "orig_nbformat": 4
 },
 "nbformat": 4,
 "nbformat_minor": 2
}
