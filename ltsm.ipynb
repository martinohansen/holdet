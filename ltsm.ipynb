{
 "cells": [
  {
   "cell_type": "code",
   "execution_count": 3,
   "metadata": {},
   "outputs": [
    {
     "name": "stderr",
     "output_type": "stream",
     "text": [
      "2023-08-07 11:24:10.173256: I metal_plugin/src/device/metal_device.cc:1154] Metal device set to: Apple M2 Max\n",
      "2023-08-07 11:24:10.173274: I metal_plugin/src/device/metal_device.cc:296] systemMemory: 32.00 GB\n",
      "2023-08-07 11:24:10.173278: I metal_plugin/src/device/metal_device.cc:313] maxCacheSize: 10.67 GB\n",
      "2023-08-07 11:24:10.173339: I tensorflow/core/common_runtime/pluggable_device/pluggable_device_factory.cc:303] Could not identify NUMA node of platform GPU ID 0, defaulting to 0. Your kernel may not have been built with NUMA support.\n",
      "2023-08-07 11:24:10.173506: I tensorflow/core/common_runtime/pluggable_device/pluggable_device_factory.cc:269] Created TensorFlow device (/job:localhost/replica:0/task:0/device:GPU:0 with 0 MB memory) -> physical PluggableDevice (device: 0, name: METAL, pci bus id: <undefined>)\n"
     ]
    }
   ],
   "source": [
    "from keras.layers import LSTM, Dense\n",
    "from keras.models import Sequential\n",
    "\n",
    "# Build LSTM model used to do predictions\n",
    "model = Sequential()\n",
    "model.add(LSTM(units=50, return_sequences=True))\n",
    "model.add(LSTM(units=50))\n",
    "model.add(Dense(units=50, activation=\"relu\"))\n",
    "model.add(Dense(units=1))\n",
    "\n",
    "model.compile(optimizer=\"adam\", loss=\"mean_squared_error\")\n"
   ]
  },
  {
   "cell_type": "code",
   "execution_count": 4,
   "metadata": {},
   "outputs": [],
   "source": [
    "import numpy as np\n",
    "import pandas as pd\n",
    "from sklearn.preprocessing import MinMaxScaler\n",
    "from rich.jupyter import print\n",
    "\n",
    "\n",
    "# Number of past rounds to sequence for the model to consider when predicting\n",
    "# the growth of a player for round.\n",
    "n_steps: int = 10\n",
    "\n",
    "scaler_x = MinMaxScaler(feature_range=(0, 1))\n",
    "scaler_y = MinMaxScaler(feature_range=(0, 1))\n",
    "\n",
    "\n",
    "def prepare_data(df: pd.DataFrame) -> tuple[np.ndarray, np.ndarray]:\n",
    "    \"\"\"\n",
    "    Prepare the data for training the model. This includes normalizing the data\n",
    "    and combining the data into a X and y array.\n",
    "    \"\"\"\n",
    "\n",
    "    # NaN values is often because no stat was recorded for the given player for\n",
    "    # that game. That means that the player was not on the pitch and thus 0 is\n",
    "    # the proper value to use.\n",
    "    df.fillna(0, inplace=True)\n",
    "\n",
    "    # Normalize the data to gain better results. Using separate scaler to allow\n",
    "    # for independently inverting again.\n",
    "    df[df.columns.difference([\"growth\"])] = scaler_x.fit_transform(\n",
    "        df[df.columns.difference([\"growth\"])]\n",
    "    )\n",
    "    df[\"growth\"] = scaler_y.fit_transform(df[[\"growth\"]])\n",
    "\n",
    "    # Combine number of time_steps into a single array and set the target to the\n",
    "    # growth of the following round. E.g. combine values from round 1-10 and set\n",
    "    # the target to the growth of round 11.\n",
    "    time_steps = n_steps\n",
    "    features = []\n",
    "    target = []\n",
    "    for _, group in df.groupby(\"id\"):\n",
    "        # Drop columns that will overfit the data. The id and round have no real\n",
    "        # influence on the players performance. We only keep the id to be able\n",
    "        # to group the data by player.\n",
    "        group.drop(columns=[\"id\", \"round\"], inplace=True)\n",
    "\n",
    "        for i in range(time_steps, len(group)):\n",
    "            features.append(group.iloc[i - time_steps : i].values)\n",
    "            target.append(group.iloc[i][\"growth\"])\n",
    "\n",
    "    return np.array(features), np.array(target)\n"
   ]
  },
  {
   "cell_type": "code",
   "execution_count": 5,
   "metadata": {},
   "outputs": [],
   "source": [
    "from sklearn.model_selection import train_test_split\n",
    "\n",
    "\n",
    "def train(df: pd.DataFrame, epochs: int = 10, batch_size: int = 32) -> None:\n",
    "    \"\"\"\n",
    "    Train the LSTM model using the given data frame. Returns the model for use\n",
    "    to predict the growth of a player.\n",
    "    \"\"\"\n",
    "    X, y = prepare_data(df)\n",
    "\n",
    "    # Split the data into training and test data\n",
    "    X_train, X_test, y_train, y_test = train_test_split(X, y, test_size=0.2)\n",
    "\n",
    "    # Train the model\n",
    "    model.fit(\n",
    "        X_train,\n",
    "        y_train,\n",
    "        # Number of iterations over the entire dataset\n",
    "        epochs=epochs,\n",
    "        # Number of samples per gradient update\n",
    "        batch_size=batch_size,\n",
    "        # Use 20% of the data for validation\n",
    "        validation_split=0.2,\n",
    "    )\n",
    "\n",
    "    loss = model.evaluate(X_test, y_test)\n",
    "    print(f\"\\nModel evaluation: {loss=!r}\")\n"
   ]
  },
  {
   "cell_type": "code",
   "execution_count": 6,
   "metadata": {},
   "outputs": [],
   "source": [
    "from holdet.data import sofascore\n",
    "from holdet.game import Game, Candidate, Holdet, Round, Sofascore\n",
    "from functools import cache\n",
    "\n",
    "\n",
    "class CandidateLTSM(Candidate):\n",
    "    def __init__(self, holdet: Holdet, sofascore: Sofascore) -> None:\n",
    "        super().__init__(holdet, sofascore)\n",
    "\n",
    "    def features(self, stat: sofascore.Statistics) -> dict[str, float | int]:\n",
    "        \"\"\"\n",
    "        Return a dictionary with all the features that can be used to train a\n",
    "        model.\n",
    "        \"\"\"\n",
    "\n",
    "        return {\n",
    "            # TODO: Add data from betting sites\n",
    "            \"opponent\": stat.game.away.id\n",
    "            if stat.side == sofascore.Side.HOME\n",
    "            else stat.game.home.id,\n",
    "            \"side\": stat.side.value,\n",
    "            \"substitute\": int(stat.substitute),\n",
    "            \"assists\": stat.assists,\n",
    "            \"expectedAssists\": stat.expectedAssists,\n",
    "            \"expectedGoals\": stat.expectedGoals,\n",
    "            \"goals\": stat.goals,\n",
    "            \"goalsPrevented\": stat.goalsPrevented,\n",
    "            \"minutesPlayed\": stat.minutesPlayed,\n",
    "            \"onTargetScoringAttempt\": stat.onTargetScoringAttempt,\n",
    "            \"savedShotsFromInsideTheBox\": stat.savedShotsFromInsideTheBox,\n",
    "            \"saves\": stat.saves,\n",
    "            \"team_goals\": stat.team_goals,\n",
    "            \"team_goals_conceded\": stat.team_goals_conceded,\n",
    "            \"win\": int(stat.win),\n",
    "            \"loss\": int(stat.loss),\n",
    "            \"draw\": int(stat.draw),\n",
    "            \"clean_sheet\": int(stat.clean_sheet),\n",
    "            \"decisive_goal_for_draw\": int(stat.decisive_goal_for_draw),\n",
    "            \"decisive_goal_for_win\": int(stat.decisive_goal_for_win),\n",
    "        }\n",
    "\n",
    "    def aggregate_features(self, round: Round) -> dict:\n",
    "        \"\"\"\n",
    "        Aggregate all the features from a round into one. This is needed for\n",
    "        rounds with multiple games in them. The features are summed together.\n",
    "\n",
    "        Its not ideal for stuff like opponent or side which will simply be added\n",
    "        together, but thats we can do for now.\n",
    "        \"\"\"\n",
    "        round_stats: dict[str, int | float] = {}\n",
    "        for stat in round.stats:\n",
    "            for key, value in self.features(stat).items():\n",
    "                round_stats[key] = round_stats.get(key, 0) + value\n",
    "        return round_stats\n",
    "\n",
    "    def generate_dataframe(self) -> pd.DataFrame:\n",
    "        \"\"\"\n",
    "        Generate a dataframe for the candidate with features for every round\n",
    "        \"\"\"\n",
    "        data = []\n",
    "\n",
    "        for round in self.rounds:\n",
    "            row = {\n",
    "                \"id\": self.id,\n",
    "                \"round\": round.number,\n",
    "                \"position\": round.position.value,\n",
    "                \"team\": self.team_id,\n",
    "                \"growth\": round.growth,\n",
    "            }\n",
    "\n",
    "            # Append all features to the row\n",
    "            features = self.aggregate_features(round)\n",
    "            for key, value in features.items():\n",
    "                row[key] = value\n",
    "\n",
    "            data.append(row)\n",
    "\n",
    "        return pd.DataFrame(data)\n",
    "\n",
    "    @cache  # Cache the prediction so we do not have to do inference every time\n",
    "    def xGrowth(self) -> float:\n",
    "        \"\"\"\n",
    "        Predict the growth for the next game using the given data frame. The\n",
    "        data frame should contain the same columns as the one used for training\n",
    "        the model.\n",
    "        \"\"\"\n",
    "        df = self.generate_dataframe()\n",
    "        X, _ = prepare_data(df)\n",
    "        y = model.predict(X)\n",
    "        return float(scaler_y.inverse_transform(y)[-1])\n",
    "\n",
    "    @property\n",
    "    def xValue(self) -> float:\n",
    "        if self.captain:\n",
    "            return self.value + self.xGrowth() * 2\n",
    "        return self.value + self.xGrowth()\n",
    "\n",
    "\n",
    "game = Game(CandidateLTSM)\n"
   ]
  },
  {
   "cell_type": "code",
   "execution_count": 7,
   "metadata": {},
   "outputs": [
    {
     "name": "stdout",
     "output_type": "stream",
     "text": [
      "Epoch 1/10\n"
     ]
    },
    {
     "name": "stderr",
     "output_type": "stream",
     "text": [
      "2023-08-07 11:24:32.677586: I tensorflow/core/grappler/optimizers/custom_graph_optimizer_registry.cc:114] Plugin optimizer for device_type GPU is enabled.\n",
      "2023-08-07 11:24:32.900603: I tensorflow/core/grappler/optimizers/custom_graph_optimizer_registry.cc:114] Plugin optimizer for device_type GPU is enabled.\n",
      "2023-08-07 11:24:32.959398: I tensorflow/core/grappler/optimizers/custom_graph_optimizer_registry.cc:114] Plugin optimizer for device_type GPU is enabled.\n",
      "2023-08-07 11:24:33.068659: I tensorflow/core/grappler/optimizers/custom_graph_optimizer_registry.cc:114] Plugin optimizer for device_type GPU is enabled.\n"
     ]
    },
    {
     "name": "stdout",
     "output_type": "stream",
     "text": [
      " 11/347 [..............................] - ETA: 3s - loss: 0.0365 "
     ]
    },
    {
     "name": "stderr",
     "output_type": "stream",
     "text": [
      "2023-08-07 11:24:33.156186: I tensorflow/core/grappler/optimizers/custom_graph_optimizer_registry.cc:114] Plugin optimizer for device_type GPU is enabled.\n"
     ]
    },
    {
     "name": "stdout",
     "output_type": "stream",
     "text": [
      "347/347 [==============================] - ETA: 0s - loss: 0.0053"
     ]
    },
    {
     "name": "stderr",
     "output_type": "stream",
     "text": [
      "2023-08-07 11:24:36.981638: I tensorflow/core/grappler/optimizers/custom_graph_optimizer_registry.cc:114] Plugin optimizer for device_type GPU is enabled.\n",
      "2023-08-07 11:24:37.046866: I tensorflow/core/grappler/optimizers/custom_graph_optimizer_registry.cc:114] Plugin optimizer for device_type GPU is enabled.\n",
      "2023-08-07 11:24:37.077811: I tensorflow/core/grappler/optimizers/custom_graph_optimizer_registry.cc:114] Plugin optimizer for device_type GPU is enabled.\n"
     ]
    },
    {
     "name": "stdout",
     "output_type": "stream",
     "text": [
      "347/347 [==============================] - 6s 12ms/step - loss: 0.0053 - val_loss: 0.0038\n",
      "Epoch 2/10\n",
      "347/347 [==============================] - 4s 10ms/step - loss: 0.0040 - val_loss: 0.0038\n",
      "Epoch 3/10\n",
      "347/347 [==============================] - 4s 11ms/step - loss: 0.0040 - val_loss: 0.0038\n",
      "Epoch 4/10\n",
      "347/347 [==============================] - 4s 10ms/step - loss: 0.0039 - val_loss: 0.0039\n",
      "Epoch 5/10\n",
      "347/347 [==============================] - 4s 10ms/step - loss: 0.0039 - val_loss: 0.0038\n",
      "Epoch 6/10\n",
      "347/347 [==============================] - 4s 10ms/step - loss: 0.0039 - val_loss: 0.0039\n",
      "Epoch 7/10\n",
      "347/347 [==============================] - 4s 11ms/step - loss: 0.0039 - val_loss: 0.0037\n",
      "Epoch 8/10\n",
      "347/347 [==============================] - 4s 10ms/step - loss: 0.0039 - val_loss: 0.0038\n",
      "Epoch 9/10\n",
      "347/347 [==============================] - 4s 11ms/step - loss: 0.0040 - val_loss: 0.0037\n",
      "Epoch 10/10\n",
      "347/347 [==============================] - 4s 11ms/step - loss: 0.0039 - val_loss: 0.0038\n",
      "109/109 [==============================] - 1s 5ms/step - loss: 0.0036\n"
     ]
    },
    {
     "data": {
      "text/html": [
       "<pre style=\"white-space:pre;overflow-x:auto;line-height:normal;font-family:Menlo,'DejaVu Sans Mono',consolas,'Courier New',monospace\">\n",
       "Model evaluation: <span style=\"color: #808000; text-decoration-color: #808000\">loss</span>=<span style=\"color: #008080; text-decoration-color: #008080; font-weight: bold\">0.0035871819127351046</span>\n",
       "</pre>\n"
      ],
      "text/plain": [
       "\n",
       "Model evaluation: \u001b[33mloss\u001b[0m=\u001b[1;36m0\u001b[0m\u001b[1;36m.0035871819127351046\u001b[0m\n"
      ]
     },
     "metadata": {},
     "output_type": "display_data"
    }
   ],
   "source": [
    "# Generate a dataframe for each candidate, concat into one and use it to train\n",
    "# the model.\n",
    "data = []\n",
    "for candidate in game.candidates:\n",
    "    candidate: CandidateLTSM\n",
    "    data.append(candidate.generate_dataframe())\n",
    "df = pd.concat(data)\n",
    "\n",
    "train(df, epochs=10, batch_size=32)\n"
   ]
  },
  {
   "cell_type": "code",
   "execution_count": null,
   "metadata": {},
   "outputs": [],
   "source": [
    "from holdet.solver import lp\n",
    "\n",
    "budget = 50 * 1000000  # 50 million\n",
    "\n",
    "# Calculate the best starting 11 within the budget using linear programming\n",
    "solution = lp.find_optimal_team(game.candidates, budget)\n"
   ]
  },
  {
   "cell_type": "code",
   "execution_count": 13,
   "metadata": {},
   "outputs": [
    {
     "data": {
      "text/html": [
       "<pre style=\"white-space:pre;overflow-x:auto;line-height:normal;font-family:Menlo,'DejaVu Sans Mono',consolas,'Courier New',monospace\"><span style=\"font-style: italic\">                                                                             </span>\n",
       "<span style=\"font-style: italic\">                                 XI (3-4-3)                                  </span>\n",
       "┏━━━━━━━━━━━━━┳━━━━━━━━━━━━━━━━━━━━━━━━━━━━━━━━━━━━━━━━━━━━━━━━━━━┳━━━━━━━━━┓\n",
       "┃<span style=\"font-weight: bold\"> Position    </span>┃<span style=\"font-weight: bold\"> Players                                           </span>┃<span style=\"font-weight: bold\"> xGrowth </span>┃\n",
       "┡━━━━━━━━━━━━━╇━━━━━━━━━━━━━━━━━━━━━━━━━━━━━━━━━━━━━━━━━━━━━━━━━━━╇━━━━━━━━━┩\n",
       "│ Keeper      │ ⚽️ Kasper Schmeichel (Leicester City), value=0.0M │      0K │\n",
       "│             │                                                   │         │\n",
       "│ Defenses    │ ⚽️ Kurt Zouma (West Ham), value=3.5M              │     49K │\n",
       "│             │ ⚽️ Toti Gomes (Wolverhampton), value=2.4M         │     41K │\n",
       "│             │ ⚽️ Pedro Porro (Tottenham), value=4.9M            │     69K │\n",
       "│             │                                                   │         │\n",
       "│ Midfielders │ ⚽️ Eberechi Eze (Crystal Palace), value=5.2M      │    112K │\n",
       "│             │ ⚽️ Bryan Mbeumo (Brentford), value=6.1M           │    135K │\n",
       "│             │ ⚽️ Curtis Jones (Liverpool), value=3.4M           │    100K │\n",
       "│             │ 👑 Phil Foden (Manchester City), value=9.4M       │    340K │\n",
       "│             │                                                   │         │\n",
       "│ Forwards    │ ⚽️ Callum Wilson (Newcastle), value=7.7M          │    150K │\n",
       "│             │ ⚽️ Dwight McNeil (Everton), value=3.4M            │    102K │\n",
       "│             │ ⚽️ Evan Ferguson (Brighton and Hove), value=3.5M  │     85K │\n",
       "└─────────────┴───────────────────────────────────────────────────┴─────────┘\n",
       "</pre>\n"
      ],
      "text/plain": [
       "\u001b[3m                                                                             \u001b[0m\n",
       "\u001b[3m                                 XI (3-4-3)                                  \u001b[0m\n",
       "┏━━━━━━━━━━━━━┳━━━━━━━━━━━━━━━━━━━━━━━━━━━━━━━━━━━━━━━━━━━━━━━━━━━┳━━━━━━━━━┓\n",
       "┃\u001b[1m \u001b[0m\u001b[1mPosition   \u001b[0m\u001b[1m \u001b[0m┃\u001b[1m \u001b[0m\u001b[1mPlayers                                          \u001b[0m\u001b[1m \u001b[0m┃\u001b[1m \u001b[0m\u001b[1mxGrowth\u001b[0m\u001b[1m \u001b[0m┃\n",
       "┡━━━━━━━━━━━━━╇━━━━━━━━━━━━━━━━━━━━━━━━━━━━━━━━━━━━━━━━━━━━━━━━━━━╇━━━━━━━━━┩\n",
       "│ Keeper      │ ⚽️ Kasper Schmeichel (Leicester City), value=0.0M │      0K │\n",
       "│             │                                                   │         │\n",
       "│ Defenses    │ ⚽️ Kurt Zouma (West Ham), value=3.5M              │     49K │\n",
       "│             │ ⚽️ Toti Gomes (Wolverhampton), value=2.4M         │     41K │\n",
       "│             │ ⚽️ Pedro Porro (Tottenham), value=4.9M            │     69K │\n",
       "│             │                                                   │         │\n",
       "│ Midfielders │ ⚽️ Eberechi Eze (Crystal Palace), value=5.2M      │    112K │\n",
       "│             │ ⚽️ Bryan Mbeumo (Brentford), value=6.1M           │    135K │\n",
       "│             │ ⚽️ Curtis Jones (Liverpool), value=3.4M           │    100K │\n",
       "│             │ 👑 Phil Foden (Manchester City), value=9.4M       │    340K │\n",
       "│             │                                                   │         │\n",
       "│ Forwards    │ ⚽️ Callum Wilson (Newcastle), value=7.7M          │    150K │\n",
       "│             │ ⚽️ Dwight McNeil (Everton), value=3.4M            │    102K │\n",
       "│             │ ⚽️ Evan Ferguson (Brighton and Hove), value=3.5M  │     85K │\n",
       "└─────────────┴───────────────────────────────────────────────────┴─────────┘\n"
      ]
     },
     "metadata": {},
     "output_type": "display_data"
    }
   ],
   "source": [
    "from holdet.formation import Formation\n",
    "\n",
    "print(Formation(solution))\n"
   ]
  },
  {
   "cell_type": "code",
   "execution_count": null,
   "metadata": {},
   "outputs": [],
   "source": [
    "from holdet import util\n",
    "\n",
    "# Select player to inspect\n",
    "c = util.find_candidate(game.candidates, \"Kasper Schmeichel\")\n",
    "print(c)\n"
   ]
  }
 ],
 "metadata": {
  "kernelspec": {
   "display_name": "holdet-c4R3yUW3-py3.11",
   "language": "python",
   "name": "python3"
  },
  "language_info": {
   "codemirror_mode": {
    "name": "ipython",
    "version": 3
   },
   "file_extension": ".py",
   "mimetype": "text/x-python",
   "name": "python",
   "nbconvert_exporter": "python",
   "pygments_lexer": "ipython3",
   "version": "3.11.3"
  },
  "orig_nbformat": 4
 },
 "nbformat": 4,
 "nbformat_minor": 2
}
